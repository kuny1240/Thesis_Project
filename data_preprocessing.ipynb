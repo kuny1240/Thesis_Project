{
 "cells": [
  {
   "cell_type": "code",
   "execution_count": null,
   "metadata": {
    "collapsed": true
   },
   "outputs": [],
   "source": [
    "import pandas as pd\n",
    "import os\n",
    "\n",
    "path = '.\\Raw_Data'\n",
    "\n",
    "list_dir = os.listdir(path)\n",
    "\n",
    "frames = []\n",
    "\n",
    "actions = ['CELLDLSCHALGO_RBPRIMCSSELECTRATIOTHD',\n",
    "           'CELLCQIADJALGO_INITDELTACQI',\n",
    "           'CELLCQIADJALGO_CQIADJSTEP',\n",
    "           'CELLCQIADJALGO_INITDLIBLERTARGET',\n",
    "           'CELLPCALGO_PUSCHRSRPHIGHTHD']\n",
    "\n",
    "states = pd.read_csv('./Configures/States_Names.csv').values\n",
    "\n",
    "for d in list_dir:\n",
    "    tmp_d = os.path.join(path,d)\n",
    "    tmp_df = pd.read_csv(tmp_d,encoding='gb2312')\n",
    "    frames.append(tmp_df)\n",
    "    \n",
    "raw_data = pd.concat(frames,sort = False)\n",
    "\n",
    "sort_data = raw_data.sort_values(['SECTOR_IDENTIFICATION','TIME'],ascending=[True,True])\n",
    "\n",
    "sorted_actions = raw_data[actions]\n",
    "\n",
    "sorted_states = raw_data[states.T[0]]\n",
    "\n",
    "print(sort_data.head())"
   ]
  },
  {
   "cell_type": "code",
   "execution_count": 12,
   "metadata": {},
   "outputs": [],
   "source": []
  },
  {
   "cell_type": "code",
   "execution_count": null,
   "metadata": {},
   "outputs": [],
   "source": []
  }
 ],
 "metadata": {
  "kernelspec": {
   "display_name": "Python 2",
   "language": "python",
   "name": "python2"
  },
  "language_info": {
   "codemirror_mode": {
    "name": "ipython",
    "version": 2
   },
   "file_extension": ".py",
   "mimetype": "text/x-python",
   "name": "python",
   "nbconvert_exporter": "python",
   "pygments_lexer": "ipython2",
   "version": "2.7.6"
  }
 },
 "nbformat": 4,
 "nbformat_minor": 0
}
